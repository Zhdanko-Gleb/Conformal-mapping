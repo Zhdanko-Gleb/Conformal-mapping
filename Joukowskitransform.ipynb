{
 "cells": [
  {
   "cell_type": "code",
   "execution_count": 1,
   "metadata": {},
   "outputs": [],
   "source": [
    "import matplotlib.pyplot as plt\n",
    "from matplotlib.colors import hsv_to_rgb, to_hex\n",
    "import numpy as np\n",
    "import cmath\n",
    "import math\n",
    "from random import randint\n",
    "def transform(z,a=0.5,b=0.5,r=1):\n",
    "    k1 = np.sqrt(r**2 - b**2) - a\n",
    "    k2 = -np.sqrt(r**2 - b**2) - a\n",
    "    if k1>r:\n",
    "        k = k2\n",
    "    else:\n",
    "        k = k1\n",
    "    # if z == 0 :\n",
    "    #     return None\n",
    "    # else:\n",
    "    return  (z + k**2/z)\n",
    "    "
   ]
  },
  {
   "cell_type": "code",
   "execution_count": 6,
   "metadata": {},
   "outputs": [],
   "source": [
    "def slow_to_fast_growth(initial_value, max_value, max_iterations):\n",
    "    array = []\n",
    "    step = math.log(max_value/initial_value)/max_iterations\n",
    "    for i in range(max_iterations):\n",
    "        array.append(initial_value*math.exp(i*step))\n",
    "    return array"
   ]
  },
  {
   "cell_type": "code",
   "execution_count": 7,
   "metadata": {},
   "outputs": [],
   "source": [
    "\n",
    "def rand_col(min_v=0.1, max_v=0.7):\n",
    "    hsv = np.concatenate([np.random.rand(2), np.random.uniform(min_v, max_v, size=1)])\n",
    "    return to_hex(hsv_to_rgb(hsv))"
   ]
  },
  {
   "cell_type": "code",
   "execution_count": 8,
   "metadata": {},
   "outputs": [],
   "source": [
    "\n",
    "def ploting(a=0.5,b=0.5,r=1, r_max = 2.5, rad_steps = 10,phi_steps = 10):\n",
    "    fig, ax = plt.subplots(1, 2,figsize=(25, 25))\n",
    "    color = []\n",
    "    n =rad_steps\n",
    "\n",
    "    for i in range(n):\n",
    "        color.append(rand_col())\n",
    "    #radiuses = np.linspace(r,r*2.5,rad_steps)\n",
    "    radiuses = slow_to_fast_growth(r,r_max,rad_steps)\n",
    "    angles = np.linspace(-np.pi,np.pi, phi_steps)\n",
    "    phi_main_circle = np.linspace(-np.pi,np.pi, 100,endpoint=True)\n",
    "    x = r*np.cos(phi_main_circle) - a \n",
    "    y = r*np.sin(phi_main_circle) + b\n",
    "    z = x + 1j*y\n",
    "    profile = np.apply_along_axis(transform,arr = z, axis = 0,a=a,b=b,r=r)\n",
    "    X = profile.real\n",
    "    Y = profile.imag\n",
    "    ax[0].plot(x,y, 'black', linewidth = 2.5)\n",
    "    ax[0].plot(-a,b,marker = '*',linestyle = 'none', color = 'red')\n",
    "    ax[1].plot(X,Y, 'black', linewidth = 2.5)\n",
    "    for c,rad in enumerate(radiuses): \n",
    "        line1x = []\n",
    "        line1y = []\n",
    "        line2x = []\n",
    "        line2y = []\n",
    "        for phi in angles: \n",
    "            x = rad*np.cos(phi) - a\n",
    "            y = rad*np.sin(phi) + b\n",
    "            ax[0].plot(x,y,marker = 'o', markersize = 1.3, linestyle = 'none',color = color[c])\n",
    "            z_transform = transform(x+1j*y,a,b,r)\n",
    "            ax[1].plot(z_transform.real, z_transform.imag,marker = 'o',markersize = 1.3, linestyle = 'none', color = color[c])\n",
    "            line1x.append(x)\n",
    "            line1y.append(y)\n",
    "            line2x.append(z_transform.real)\n",
    "            line2y.append(z_transform.imag)\n",
    "        ax[0].plot(line1x,line1y,color = color[c],linewidth = 0.7)\n",
    "        ax[1].plot(line2x,line2y,color = color[c],linewidth = 0.7)\n",
    "    for phi in angles: \n",
    "        line1x = []\n",
    "        line1y = []\n",
    "        line2x = []\n",
    "        line2y = []\n",
    "        for rad in radiuses:\n",
    "            x = rad*np.cos(phi) - a\n",
    "            y = rad*np.sin(phi) + b\n",
    "            z_transform = transform(x+1j*y,a,b,r)\n",
    "            line1x.append(x)\n",
    "            line1y.append(y)\n",
    "            line2x.append(z_transform.real)\n",
    "            line2y.append(z_transform.imag)\n",
    "        ax[0].plot(line1x,line1y,color = 'black',linewidth = 0.7)\n",
    "        ax[1].plot(line2x,line2y,color = 'black',linewidth = 0.7)\n",
    "    ax[0].set_xlim([-r_max-0.5,r_max+0.5])\n",
    "    ax[0].set_ylim([-r_max-0.5,r_max+0.5])\n",
    "    ax[1].set_xlim([-r_max-0.5,r_max+0.5])\n",
    "    ax[1].set_ylim([-r_max-0.5,r_max+0.5])\n",
    "    ax[0].set(aspect='equal')\n",
    "    ax[1].set(aspect = 'equal')\n",
    "    ax[0].set_title(f'Circle with radius {r} and position at x = {-a}, y = {b}')\n",
    "    ax[1].set_title('Joukowski transform grid')\n",
    "    plt.savefig(f'images/Joukowskitransform{a,b,r}.png')\n",
    "    # Customize the SVG output\n",
    "    plt.rcParams['svg.fonttype'] = 'none'  # Prevent text rendering issues\n",
    "    plt.rcParams['figure.dpi'] = 300  # High DPI for crisp SVG\n",
    "    # Save as SVG\n",
    "    plt.savefig(f'images/Joukowskitransform{a,b,r}.svg', format='svg')\n",
    "    plt.show();\n",
    "    \n",
    "\n"
   ]
  },
  {
   "cell_type": "code",
   "execution_count": null,
   "metadata": {},
   "outputs": [],
   "source": [
    "ploting(a = 0.2,b = 0.2,r = 1,r_max = 3,rad_steps = 50, phi_steps=95)"
   ]
  },
  {
   "cell_type": "code",
   "execution_count": 16,
   "metadata": {},
   "outputs": [],
   "source": [
    "def plot_main(a,b,r):\n",
    "    fig, ax = plt.subplots()\n",
    "    phi_main_circle = np.linspace(-np.pi,np.pi, 100,endpoint=True)\n",
    "    x = r*np.cos(phi_main_circle) - a \n",
    "    y = r*np.sin(phi_main_circle) + b\n",
    "    z = x + 1j*y\n",
    "    profile = np.apply_along_axis(transform,arr = z, axis = 0,a=a,b=b,r=r)\n",
    "    X = profile.real\n",
    "    Y = profile.imag\n",
    "    ax.plot(X,Y, 'black', linewidth = 2.5)\n",
    "    ax.set(aspect='equal')\n",
    "    ax.set_xlim([-2.5,2.5])\n",
    "    ax.set_ylim([-2,2])\n",
    "    plt.show();"
   ]
  },
  {
   "cell_type": "code",
   "execution_count": 17,
   "metadata": {},
   "outputs": [
    {
     "data": {
      "image/png": "[encoded data removed]",
      "text/plain": [
       "<Figure size 640x480 with 1 Axes>"
      ]
     },
     "metadata": {},
     "output_type": "display_data"
    }
   ],
   "source": [
    "plot_main(a=0.2,b=0.1,r=1)"
   ]
  },
  {
   "cell_type": "code",
   "execution_count": 20,
   "metadata": {},
   "outputs": [
    {
     "data": {
      "application/vnd.jupyter.widget-view+json": {
       "model_id": "5b44ff32cc0841428f4ff090890d1312",
       "version_major": 2,
       "version_minor": 0
      },
      "text/plain": [
       "interactive(children=(FloatSlider(value=0.2, description='a', max=1.0, min=-1.0, step=0.001), FloatSlider(valu…"
      ]
     },
     "metadata": {},
     "output_type": "display_data"
    },
    {
     "data": {
      "text/plain": [
       "<function __main__.update_plot(a, b)>"
      ]
     },
     "execution_count": 20,
     "metadata": {},
     "output_type": "execute_result"
    }
   ],
   "source": [
    "from ipywidgets import interact, FloatSlider\n",
    "\n",
    "# Define the initial values\n",
    "a = 0.2\n",
    "b = 0.2\n",
    "\n",
    "# Create a function to update the plot based on the slider values\n",
    "def update_plot(a, b):\n",
    "    plot_main(a,b,r=1)\n",
    "\n",
    "# Create the interactive widgets\n",
    "interact(update_plot, a=FloatSlider(min=-1, max=1, step=0.001, value=0.2), \n",
    "         b=FloatSlider(min=-1, max=1, step=0.001, value=0.2))"
   ]
  },
  {
   "cell_type": "code",
   "execution_count": null,
   "metadata": {},
   "outputs": [],
   "source": []
  }
 ],
 "metadata": {
  "kernelspec": {
   "display_name": "Python 3",
   "language": "python",
   "name": "python3"
  },
  "language_info": {
   "codemirror_mode": {
    "name": "ipython",
    "version": 3
   },
   "file_extension": ".py",
   "mimetype": "text/x-python",
   "name": "python",
   "nbconvert_exporter": "python",
   "pygments_lexer": "ipython3",
   "version": "3.12.6"
  }
 },
 "nbformat": 4,
 "nbformat_minor": 2
}
